{
 "cells": [
  {
   "cell_type": "code",
   "execution_count": null,
   "id": "944a573e-8977-4c35-b0fd-820d5ff046b5",
   "metadata": {},
   "outputs": [
    {
     "data": {
      "text/plain": [
       "array([0])"
      ]
     },
     "execution_count": 18,
     "metadata": {},
     "output_type": "execute_result"
    }
   ],
   "source": [
    "import pandas as pd\n",
    "\n",
    "data = pd.read_csv(\"Placement_Data.csv\")\n",
    "data.head()\n",
    "data1 = data.copy()\n",
    "data1 = data1.drop([\"sl_no\",\"salary\"],axis = 1)\n",
    "data1.head()\n",
    "data1.isnull().sum()\n",
    "data1.duplicated().sum()\n",
    "\n",
    "from sklearn.preprocessing import LabelEncoder\n",
    "le = LabelEncoder()\n",
    "\n",
    "data1[\"gender\"] = le.fit_transform(data1[\"gender\"])\n",
    "data1[\"ssc_b\"] = le.fit_transform(data1[\"ssc_b\"])\n",
    "data1[\"hsc_b\"] = le.fit_transform(data1[\"hsc_b\"])\n",
    "data1[\"hsc_s\"] = le.fit_transform(data1[\"hsc_s\"])\n",
    "data1[\"degree_t\"] = le.fit_transform(data1[\"degree_t\"])\n",
    "data1[\"workex\"] = le.fit_transform(data1[\"workex\"])\n",
    "data1[\"specialisation\"] = le.fit_transform(data1[\"specialisation\"])\n",
    "data1[\"status\"] = le.fit_transform(data1[\"status\"])\n",
    "data1\n",
    "\n",
    "x = data1.iloc[:,:-1]\n",
    "x\n",
    "y = data1[\"status\"]\n",
    "y\n",
    "\n",
    "from sklearn.model_selection import train_test_split\n",
    "x_train,x_test,y_train,y_test = train_test_split(x,y,test_size = 0.2,random_state = 0)\n",
    "\n",
    "from sklearn.linear_model import LogisticRegression\n",
    "lr = LogisticRegression(solver = \"liblinear\")\n",
    "lr.fit(x_train,y_train)\n",
    "y_pred = lr.predict(x_test)\n",
    "y_pred\n",
    "\n",
    "from sklearn.metrics import accuracy_score\n",
    "accuracy = accuracy_score(y_test,y_pred)\n",
    "accuracy\n",
    "\n",
    "from sklearn.metrics import confusion_matrix\n",
    "confusion = confusion_matrix(y_test,y_pred)\n",
    "confusion\n",
    "\n",
    "from sklearn.metrics import classification_report\n",
    "classification_report1 = classification_report(y_test,y_pred)\n",
    "classification_report1\n",
    "\n",
    "lr.predict([[1,80,1,90,1,1,90,1,0,85,1,85]])"
   ]
  }
 ],
 "metadata": {
  "kernelspec": {
   "display_name": "Python 3 (ipykernel)",
   "language": "python",
   "name": "python3"
  },
  "language_info": {
   "codemirror_mode": {
    "name": "ipython",
    "version": 3
   },
   "file_extension": ".py",
   "mimetype": "text/x-python",
   "name": "python",
   "nbconvert_exporter": "python",
   "pygments_lexer": "ipython3",
   "version": "3.9.7"
  }
 },
 "nbformat": 4,
 "nbformat_minor": 5
}
